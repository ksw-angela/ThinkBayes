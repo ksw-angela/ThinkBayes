{
 "cells": [
  {
   "cell_type": "markdown",
   "metadata": {},
   "source": [
    "# Simple PMF Example\n",
    "\n",
    "The `Pmf` module in `thinkbayes2` allows you to build a probability mass function - a discrete distribution. The following represents the distribution of a fair six-sided die. We use the `Set` method to set the probability associated with each value to 1/6."
   ]
  },
  {
   "cell_type": "code",
   "execution_count": 6,
   "metadata": {},
   "outputs": [
    {
     "name": "stdout",
     "output_type": "stream",
     "text": [
      "1\n",
      "2\n",
      "3\n",
      "4\n",
      "5\n",
      "6\n"
     ]
    }
   ],
   "source": [
    "import sys\n",
    "sys.path.append('../code')\n",
    "\n",
    "from thinkbayes2 import Pmf\n",
    "\n",
    "pmf = Pmf()\n",
    "for x in range(1,7):\n",
    "    pmf.Set(x, 1/6.0)"
   ]
  },
  {
   "cell_type": "markdown",
   "metadata": {},
   "source": [
    "Another way this can be accomplished is by counting the number of times an event occurs to find the empirical pmf. Suppose we observe the following rolls of the same die."
   ]
  },
  {
   "cell_type": "code",
   "execution_count": 10,
   "metadata": {},
   "outputs": [
    {
     "name": "stdout",
     "output_type": "stream",
     "text": [
      "[1, 3, 1, 4, 3, 1, 1, 4, 5, 5, 3, 3, 1, 2, 2, 3, 5, 3, 6, 2, 2, 1, 4, 1, 5]\n"
     ]
    }
   ],
   "source": [
    "import random\n",
    "\n",
    "random.seed(123)\n",
    "rolls = [random.randrange(1, 7, 1) for i in range(25)] \n",
    "print(rolls)"
   ]
  },
  {
   "cell_type": "markdown",
   "metadata": {},
   "source": [
    "We can convert this to an empirical pmf with the `Incr` method. Increasing the count of each roll by 1 every time it is observed."
   ]
  },
  {
   "cell_type": "code",
   "execution_count": 11,
   "metadata": {},
   "outputs": [],
   "source": [
    "pmf = Pmf()\n",
    "for roll in rolls:\n",
    "    pmf.Incr(roll, 1)"
   ]
  },
  {
   "cell_type": "markdown",
   "metadata": {},
   "source": [
    "But each of these represent a count. To change these to probabilities we use the `Normalize` method."
   ]
  },
  {
   "cell_type": "code",
   "execution_count": 12,
   "metadata": {},
   "outputs": [
    {
     "data": {
      "text/plain": [
       "25"
      ]
     },
     "execution_count": 12,
     "metadata": {},
     "output_type": "execute_result"
    }
   ],
   "source": [
    "pmf.Normalize()"
   ]
  },
  {
   "cell_type": "markdown",
   "metadata": {},
   "source": [
    "To obtain the probability of a certain event we can use the `Prob` method. For example, our observed probability of seeing a 1 rolled is:"
   ]
  },
  {
   "cell_type": "code",
   "execution_count": 13,
   "metadata": {},
   "outputs": [
    {
     "name": "stdout",
     "output_type": "stream",
     "text": [
      "0.28\n"
     ]
    }
   ],
   "source": [
    "print(pmf.Prob(1))"
   ]
  },
  {
   "cell_type": "markdown",
   "metadata": {},
   "source": [
    "# Examples from Chapter 1\n",
    "We illustrate the use of the `Pmf` module through examples from the previous chapter.\n",
    "\n",
    "## Cookie Problem\n",
    "Our goal is to define the pmf of the posterior under the different hypothesis (vanilla cookie coming from Bowl 1 or from Bowl 2). We begin by defining the different priors."
   ]
  },
  {
   "cell_type": "code",
   "execution_count": 14,
   "metadata": {},
   "outputs": [],
   "source": [
    "pmf = Pmf()\n",
    "pmf.Set('Bowl 1', 0.5)\n",
    "pmf.Set('Bowl 2', 0.5)"
   ]
  },
  {
   "cell_type": "markdown",
   "metadata": {},
   "source": [
    "To update the distribution based on the new data (drawing a vanilla cookie), we multiply each prior by their corresponding likelihood using the `Mult` method."
   ]
  },
  {
   "cell_type": "code",
   "execution_count": 15,
   "metadata": {},
   "outputs": [],
   "source": [
    "pmf.Mult('Bowl 1', 0.75)\n",
    "pmf.Mult('Bowl 2', 0.5)"
   ]
  },
  {
   "cell_type": "markdown",
   "metadata": {},
   "source": [
    "After the above update, the distribution no longer represents probabilities since they are not normalized. We employ the `Normalize` method."
   ]
  },
  {
   "cell_type": "code",
   "execution_count": 16,
   "metadata": {},
   "outputs": [
    {
     "data": {
      "text/plain": [
       "0.625"
      ]
     },
     "execution_count": 16,
     "metadata": {},
     "output_type": "execute_result"
    }
   ],
   "source": [
    "pmf.Normalize()"
   ]
  },
  {
   "cell_type": "markdown",
   "metadata": {},
   "source": [
    "The pmf of the posteriors is as follows:"
   ]
  },
  {
   "cell_type": "code",
   "execution_count": 17,
   "metadata": {},
   "outputs": [
    {
     "name": "stdout",
     "output_type": "stream",
     "text": [
      "0.6000000000000001\n",
      "0.4\n"
     ]
    }
   ],
   "source": [
    "print(pmf.Prob('Bowl 1'))\n",
    "print(pmf.Prob('Bowl 2'))"
   ]
  },
  {
   "cell_type": "markdown",
   "metadata": {},
   "source": [
    "### Generalization of Above Code\n",
    "The above code is rewritten to be more general to apply to other problems."
   ]
  },
  {
   "cell_type": "code",
   "execution_count": 21,
   "metadata": {},
   "outputs": [],
   "source": [
    "class Cookie(Pmf):\n",
    "    \n",
    "    mixes = {\n",
    "        'Bowl 1':dict(vanilla=0.75,chocolate=0.25),\n",
    "        'Bowl 2':dict(vanilla=0.5,chocolate=0.5),\n",
    "    }\n",
    "    \n",
    "    def __init__(self, hypos):\n",
    "        Pmf.__init__(self)\n",
    "        for hypo in hypos:\n",
    "            self.Set(hypo, 1)\n",
    "        self.Normalize()\n",
    "        \n",
    "    def Likelihood(self, data, hypo):\n",
    "        mix = self.mixes[hypo]\n",
    "        like = mix[data]\n",
    "        return like\n",
    "    \n",
    "    def Update(self, data):\n",
    "        for hypo in self.Values():\n",
    "            like = self.Likelihood(data, hypo)\n",
    "            self.Mult(hypo, like)\n",
    "        self.Normalize()"
   ]
  },
  {
   "cell_type": "markdown",
   "metadata": {},
   "source": [
    "The `Cookie` class is a `Pmf` object. It is initialized by setting the pmf with a prior that has equal probability for each hypothesis. In this case there are two hypotheses: that the cookie came from Bowl 1 or that the cookie came from Bowl 2. We define the hypotheses below."
   ]
  },
  {
   "cell_type": "code",
   "execution_count": 22,
   "metadata": {},
   "outputs": [],
   "source": [
    "hypos = ['Bowl 1', 'Bowl 2']\n",
    "pmf = Cookie(hypos)"
   ]
  },
  {
   "cell_type": "markdown",
   "metadata": {},
   "source": [
    "The `mixes` attribute represents the likelihoods under each of the hypotheses. To determine the likelihood of a specific hypothesis, the `Likelihood` method is used. To update the posterior distribution, the `Update` method calculates the likelihood of the data under the hypothesis and then mutliplies the prior and normalizes to maintain a distribution. Suppose we draw a vanilla cookie (new data)."
   ]
  },
  {
   "cell_type": "code",
   "execution_count": 23,
   "metadata": {},
   "outputs": [],
   "source": [
    "pmf.Update('vanilla')"
   ]
  },
  {
   "cell_type": "markdown",
   "metadata": {},
   "source": [
    "The updated posteriors for each hypothesis is:"
   ]
  },
  {
   "cell_type": "code",
   "execution_count": 24,
   "metadata": {},
   "outputs": [
    {
     "name": "stdout",
     "output_type": "stream",
     "text": [
      "Bowl 1 0.6000000000000001\n",
      "Bowl 2 0.4\n"
     ]
    }
   ],
   "source": [
    "for hypo, prob in pmf.Items():\n",
    "    print(hypo, prob)"
   ]
  },
  {
   "cell_type": "markdown",
   "metadata": {},
   "source": [
    "Notice that we can use the above code if the problem was based on drawing multiple cookies simultaneously or if continued to draw more cookies. We update the posterior in the same way."
   ]
  },
  {
   "cell_type": "code",
   "execution_count": 25,
   "metadata": {},
   "outputs": [],
   "source": [
    "dataset = ['vanilla', 'chocolate', 'vanilla']\n",
    "for data in dataset:\n",
    "    pmf.Update(data)"
   ]
  },
  {
   "cell_type": "markdown",
   "metadata": {},
   "source": [
    "## Monty Hall Problem\n",
    "Suppose without loss of generality that we chose door A and that Monty will open either door B or C - whichever one that does not have a car behind it. He opened door B. We start out by using a similar template as above."
   ]
  },
  {
   "cell_type": "code",
   "execution_count": 34,
   "metadata": {},
   "outputs": [],
   "source": [
    "class Monty(Pmf):\n",
    "    \n",
    "    def __init__(self, hypos):\n",
    "        Pmf.__init__(self)\n",
    "        for hypo in hypos:\n",
    "            self.Set(hypo, 1)\n",
    "        self.Normalize()\n",
    "        \n",
    "    def Likelihood(self, data, hypo):\n",
    "        if hypo == data:\n",
    "            return 0\n",
    "        elif hypo == 'A':\n",
    "            return 0.5\n",
    "        else:\n",
    "            return 1\n",
    "        \n",
    "    def Update(self, data):\n",
    "        for hypo in self.Values():\n",
    "            like = self.Likelihood(data, hypo)\n",
    "            self.Mult(hypo, like)\n",
    "        self.Normalize()"
   ]
  },
  {
   "cell_type": "markdown",
   "metadata": {},
   "source": [
    "Recall that the hypotheses are which of the three doors contain the car - A, B, or C."
   ]
  },
  {
   "cell_type": "code",
   "execution_count": 35,
   "metadata": {},
   "outputs": [],
   "source": [
    "hypos = 'ABC'\n",
    "pmf = Monty(hypos)"
   ]
  },
  {
   "cell_type": "markdown",
   "metadata": {},
   "source": [
    "And we saw that he opened door B, which is new data."
   ]
  },
  {
   "cell_type": "code",
   "execution_count": 36,
   "metadata": {},
   "outputs": [],
   "source": [
    "data = 'B'\n",
    "pmf.Update(data)"
   ]
  },
  {
   "cell_type": "markdown",
   "metadata": {},
   "source": [
    "Then the results are as expected."
   ]
  },
  {
   "cell_type": "code",
   "execution_count": 37,
   "metadata": {},
   "outputs": [
    {
     "name": "stdout",
     "output_type": "stream",
     "text": [
      "A 0.3333333333333333\n",
      "B 0.0\n",
      "C 0.6666666666666666\n"
     ]
    }
   ],
   "source": [
    "for hypo, prob in pmf.Items():\n",
    "    print(hypo, prob)"
   ]
  },
  {
   "cell_type": "markdown",
   "metadata": {},
   "source": [
    "## Encapsulating the Framework\n",
    "Noticing the similarities between the previous two examples, we can encapsulate them into a single object - `Suite` which is a `Pmf` and provides `__init__`, `Update`, and `Print` methods."
   ]
  },
  {
   "cell_type": "code",
   "execution_count": 38,
   "metadata": {},
   "outputs": [],
   "source": [
    "from thinkbayes2 import Suite"
   ]
  },
  {
   "cell_type": "markdown",
   "metadata": {},
   "source": [
    "Instead of writing everything from scratch, we just have to modify the `Likelihood` method. For example, suppose we are using `Suite` to define the Monty Hall problem."
   ]
  },
  {
   "cell_type": "code",
   "execution_count": 39,
   "metadata": {},
   "outputs": [
    {
     "name": "stdout",
     "output_type": "stream",
     "text": [
      "A 0.3333333333333333\n",
      "B 0.0\n",
      "C 0.6666666666666666\n"
     ]
    }
   ],
   "source": [
    "class Monty(Suite):\n",
    "    \n",
    "    def Likelihood(self, data, hypo):\n",
    "        if hypo == data:\n",
    "            return 0\n",
    "        elif hypo == 'A':\n",
    "            return 0.5\n",
    "        else:\n",
    "            return 1\n",
    "        \n",
    "suite = Monty('ABC')\n",
    "suite.Update('B')\n",
    "suite.Print()"
   ]
  },
  {
   "cell_type": "markdown",
   "metadata": {},
   "source": [
    "## M&M Problem\n",
    "By using the `Suite` framework, we only have to rewrite the likelihood function."
   ]
  },
  {
   "cell_type": "code",
   "execution_count": 40,
   "metadata": {},
   "outputs": [
    {
     "name": "stdout",
     "output_type": "stream",
     "text": [
      "A 0.7407407407407407\n",
      "B 0.2592592592592592\n"
     ]
    }
   ],
   "source": [
    "class M_and_M(Suite):\n",
    "    \n",
    "    mix94 = dict(brown=30, yellow=20, red=20, green=10, orange=10, tan=10)\n",
    "    mix96 = dict(blue=24, green=20, orange=16, yellow=14, red=13, brown=13)\n",
    "\n",
    "    hypotheses = dict(A=dict(bag1=mix94, bag2=mix96), B=dict(bag1=mix96, bag2=mix94))\n",
    "    \n",
    "    def Likelihood(self, data, hypo):\n",
    "        bag, color = data\n",
    "        mix = self.hypotheses[hypo][bag]\n",
    "        like = mix[color]\n",
    "        return like\n",
    "    \n",
    "suite = M_and_M('AB')\n",
    "suite.Update(('bag1', 'yellow'))\n",
    "suite.Update(('bag2', 'green'))\n",
    "suite.Print()"
   ]
  },
  {
   "cell_type": "markdown",
   "metadata": {},
   "source": [
    "# Exercises\n",
    "In the Cookie Problem above, we said that the solution generalizes to the case where we draw multiple cookies with replacement. But in the more likely scenario where we eat the cookies we draw, the likelihood of each draw depends on the previous draws. Modify the solution in this chapter to handle selection without replacement. Hint: add instance variables to `Cookie` to represent the hypothetical state of the bowls and modify `Likelihood` accordingly. You might want to define a `Bowl` object."
   ]
  },
  {
   "cell_type": "code",
   "execution_count": 44,
   "metadata": {},
   "outputs": [
    {
     "name": "stdout",
     "output_type": "stream",
     "text": [
      "Bowl 1 0.3333333333333333\n",
      "Bowl 2 0.6666666666666666\n",
      "Bowl 1 0.1914893617021277\n",
      "Bowl 2 0.8085106382978723\n",
      "Bowl 1 0.09523809523809526\n",
      "Bowl 2 0.9047619047619048\n",
      "Bowl 1 0.041543026706231466\n",
      "Bowl 2 0.9584569732937686\n",
      "Bowl 1 0.015993907083016\n",
      "Bowl 2 0.9840060929169839\n",
      "Bowl 1 0.0053887605850654365\n",
      "Bowl 2 0.9946112394149345\n",
      "Bowl 1 0.0015455950540958277\n",
      "Bowl 2 0.9984544049459043\n",
      "Bowl 1 0.0003571003451970005\n",
      "Bowl 2 0.999642899654803\n",
      "Bowl 1 5.953444067392988e-05\n",
      "Bowl 2 0.9999404655593259\n",
      "Bowl 1 5.412514816759313e-06\n",
      "Bowl 2 0.9999945874851832\n",
      "Bowl 1 0.0\n",
      "Bowl 2 0.9999999999999999\n"
     ]
    }
   ],
   "source": [
    "class Bowl:\n",
    "    \n",
    "    def __init__(self, vanilla, chocolate):\n",
    "        self.vanilla = vanilla\n",
    "        self.chocolate = chocolate\n",
    "        \n",
    "    def eat(self, cookie):\n",
    "        if cookie == 'vanilla' and self.vanilla > 0:\n",
    "            self.vanilla -= 1\n",
    "        elif cookie == 'chocolate' and self.chocolate > 0:\n",
    "            self.chocolate -= 1\n",
    "\n",
    "class Cookie(Pmf, Bowl):\n",
    "    \n",
    "    mixes = {\n",
    "        'Bowl 1':Bowl(vanilla=30, chocolate=10),\n",
    "        'Bowl 2':Bowl(vanilla=20, chocolate=20),\n",
    "    }\n",
    "    \n",
    "    def __init__(self, hypos):\n",
    "        Pmf.__init__(self)\n",
    "        for hypo in hypos:\n",
    "            self.Set(hypo, 1)\n",
    "        self.Normalize()\n",
    "        \n",
    "    def Likelihood(self, data, hypo):\n",
    "        mix = self.mixes[hypo]\n",
    "        if data == 'vanilla':\n",
    "            like = mix.vanilla/(mix.vanilla + mix.chocolate)\n",
    "            mix.eat('vanilla')\n",
    "        elif data == 'chocolate':\n",
    "            like = mix.chocolate/(mix.vanilla + mix.chocolate)\n",
    "            mix.eat('chocolate')\n",
    "        return like\n",
    "    \n",
    "    def Update(self, data):\n",
    "        for hypo in self.Values():\n",
    "            like = self.Likelihood(data, hypo)\n",
    "            self.Mult(hypo, like)\n",
    "        self.Normalize()\n",
    "        \n",
    "pmf = Cookie(['Bowl 1', 'Bowl 2'])\n",
    "for i in range(11):\n",
    "    pmf.Update('chocolate')\n",
    "    pmf.Print()"
   ]
  }
 ],
 "metadata": {
  "kernelspec": {
   "display_name": "Python 3",
   "language": "python",
   "name": "python3"
  },
  "language_info": {
   "codemirror_mode": {
    "name": "ipython",
    "version": 3
   },
   "file_extension": ".py",
   "mimetype": "text/x-python",
   "name": "python",
   "nbconvert_exporter": "python",
   "pygments_lexer": "ipython3",
   "version": "3.7.1"
  }
 },
 "nbformat": 4,
 "nbformat_minor": 2
}
